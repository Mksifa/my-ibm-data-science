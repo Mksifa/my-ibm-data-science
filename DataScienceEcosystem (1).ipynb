{
 "cells": [
  {
   "cell_type": "markdown",
   "id": "4e7154aa-fb34-4ab8-9bf5-bcc8cbfd8eac",
   "metadata": {},
   "source": [
    "# Data Science Tools and Ecostystem"
   ]
  },
  {
   "cell_type": "markdown",
   "id": "d0b9d120-b70f-4945-a691-98985df048bc",
   "metadata": {},
   "source": [
    "this is where we learn about data science tools"
   ]
  },
  {
   "cell_type": "markdown",
   "id": "6aa36ff6-37af-47cd-aa0a-f977db160046",
   "metadata": {},
   "source": [
    "languages used for datascience\n",
    "1. python\n",
    "2. R\n",
    "3. SQL\n",
    "4. Julia"
   ]
  },
  {
   "cell_type": "markdown",
   "id": "407b1bba-e677-4393-a633-dadbe9f526a0",
   "metadata": {},
   "source": [
    "**Objective**\n",
    "-list data science libraries\n",
    "-list data scies languages\n",
    "-perform arithmetic"
   ]
  },
  {
   "cell_type": "markdown",
   "id": "cd98c31b-0bb2-4a4f-a774-003bbc5bcd30",
   "metadata": {},
   "source": [
    "libraries used in datascience\n",
    "1. pandas\n",
    "2. numpy\n",
    "3. matplotlib"
   ]
  },
  {
   "cell_type": "markdown",
   "id": "b498fe9a-d5c5-475b-9e4b-066a671aed0f",
   "metadata": {},
   "source": [
    "| Data Science Tools |\n",
    "|--------------------|\n",
    "| Jupyter notebook   |\n",
    "| Jupyter Lab        |\n",
    "| Rstudio            |"
   ]
  },
  {
   "cell_type": "markdown",
   "id": "3d44819e-a253-43d6-b74b-f916d0e87f80",
   "metadata": {},
   "source": [
    "### examples of evaluating arithmetic express in python\n"
   ]
  },
  {
   "cell_type": "code",
   "execution_count": 3,
   "id": "7e52af49-d75b-4ddd-b85f-e2df59fc39d4",
   "metadata": {
    "tags": []
   },
   "outputs": [
    {
     "data": {
      "text/plain": [
       "17"
      ]
     },
     "execution_count": 3,
     "metadata": {},
     "output_type": "execute_result"
    }
   ],
   "source": [
    "(3 * 4) + 5 #arithmetic operation "
   ]
  },
  {
   "cell_type": "code",
   "execution_count": 4,
   "id": "e807586c-d5ca-4496-82ff-d9abd54f5f09",
   "metadata": {
    "tags": []
   },
   "outputs": [
    {
     "data": {
      "text/plain": [
       "3.3333333333333335"
      ]
     },
     "execution_count": 4,
     "metadata": {},
     "output_type": "execute_result"
    }
   ],
   "source": [
    "#convert minutes to hours\n",
    "200 / 60"
   ]
  },
  {
   "cell_type": "markdown",
   "id": "e5e2c79b-906c-4bf3-a6eb-ea2492d92cfa",
   "metadata": {},
   "source": [
    "## Author\n",
    "Mathews Mulumemui Sifanu"
   ]
  }
 ],
 "metadata": {
  "kernelspec": {
   "display_name": "Python",
   "language": "python",
   "name": "conda-env-python-py"
  },
  "language_info": {
   "codemirror_mode": {
    "name": "ipython",
    "version": 3
   },
   "file_extension": ".py",
   "mimetype": "text/x-python",
   "name": "python",
   "nbconvert_exporter": "python",
   "pygments_lexer": "ipython3",
   "version": "3.7.12"
  }
 },
 "nbformat": 4,
 "nbformat_minor": 5
}
